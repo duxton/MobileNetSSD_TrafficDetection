{
  "nbformat": 4,
  "nbformat_minor": 0,
  "metadata": {
    "colab": {
      "provenance": [],
      "collapsed_sections": []
    },
    "kernelspec": {
      "name": "python3",
      "display_name": "Python 3"
    },
    "language_info": {
      "name": "python"
    }
  },
  "cells": [
    {
      "cell_type": "code",
      "source": [
        "import time\n",
        "import cv2 as cv\n",
        "import numpy as np\n",
        "import math"
      ],
      "metadata": {
        "id": "9R2EOUSgVZiQ"
      },
      "execution_count": 1,
      "outputs": []
    },
    {
      "cell_type": "code",
      "source": [
        "from google.colab import drive\n",
        "\n",
        "drive.mount('/content/gdrive', force_remount=True)"
      ],
      "metadata": {
        "colab": {
          "base_uri": "https://localhost:8080/"
        },
        "id": "UUJgkI3UVZ1v",
        "outputId": "9173e953-6cd2-4b5a-879a-b1708d95ebdb"
      },
      "execution_count": 3,
      "outputs": [
        {
          "output_type": "stream",
          "name": "stdout",
          "text": [
            "Mounted at /content/gdrive\n"
          ]
        }
      ]
    },
    {
      "cell_type": "code",
      "source": [
        "prototxt_path = \"/content/gdrive/MyDrive/Colab Notebooks/Text&Image_Processing/FinalAssessment/MobileNetSSD_deploy.prototxt\"\n",
        "model_path = \"/content/gdrive/MyDrive/Colab Notebooks/Text&Image_Processing/FinalAssessment/MobileNetSSD_deploy.caffemodel\"\n",
        "\n",
        "\n",
        "CLASSES = [\"background\", \"aeroplane\", \"bicycle\", \"bird\", \"boat\",\n",
        "    \"bottle\", \"bus\", \"car\", \"cat\", \"chair\", \"cow\", \"diningtable\",\n",
        "    \"dog\", \"horse\", \"motorbike\", \"person\", \"pottedplant\", \"sheep\",\n",
        "    \"sofa\", \"train\", \"tvmonitor\"]\n"
      ],
      "metadata": {
        "id": "NeaKWvVOXcPM"
      },
      "execution_count": 4,
      "outputs": []
    },
    {
      "cell_type": "code",
      "source": [
        "\n",
        "net = cv.dnn.readNetFromCaffe(prototxt_path, model_path)\n",
        "\n",
        "def process_frame_MobileNetSSD(next_frame):\n",
        "    rgb = cv.cvtColor(next_frame, cv.COLOR_BGR2RGB)\n",
        "    (H, W) = next_frame.shape[:2]\n",
        "    blob = cv.dnn.blobFromImage(next_frame, size=(300, 300), ddepth=cv.CV_8U)\n",
        "    net.setInput(blob, scalefactor=1.0/127.5, mean=[127.5, 127.5, 127.5])\n",
        "    detections = net.forward()\n",
        "\n",
        "    for i in np.arange(0, detections.shape[2]):\n",
        "        confidence = detections[0, 0, i, 2]\n",
        "        if confidence > 0.7:\n",
        "            idx = int(detections[0, 0, i, 1])\n",
        "            if CLASSES[idx] != \"car\":\n",
        "                continue\n",
        "            box = detections[0, 0, i, 3:7] * np.array([W, H, W, H])\n",
        "            (startX, startY, endX, endY) = box.astype(\"int\")\n",
        "            \n",
        "            cv.rectangle(next_frame, (startX, startY), (endX, endY), (0, 255, 0), 3)\n",
        "\n",
        "    return next_frame\n",
        "\n"
      ],
      "metadata": {
        "id": "4NolCS6aXnMC"
      },
      "execution_count": 5,
      "outputs": []
    },
    {
      "cell_type": "code",
      "source": [
        "def vehicleDetection(filename):\n",
        "    cap = cv.VideoCapture(filename)\n",
        "\n",
        "    frame_width = int(cap.get(cv.CAP_PROP_FRAME_WIDTH))\n",
        "    frame_height = int(cap.get(cv.CAP_PROP_FRAME_HEIGHT))\n",
        "\n",
        "    fps = 20\n",
        "    size = (int(frame_width),int(frame_height))\n",
        "    fourcc = cv.VideoWriter_fourcc('m','p','4','v')\n",
        "    out = cv.VideoWriter()\n",
        "    success = out.open('output_mobilenetssd.mov', fourcc, fps, size, True)\n",
        "\n",
        "    frame_count = 0\n",
        "\n",
        "    t1 = time.time()\n",
        "\n",
        "    while True:\n",
        "        ret, next_frame = cap.read() \n",
        "        \n",
        "        if ret == False: break\n",
        "\n",
        "        frame_count += 1\n",
        "        next_frame = process_frame_MobileNetSSD(next_frame)\n",
        "\n",
        "        out.write(next_frame)\n",
        "        \n",
        "        key = cv.waitKey(50)\n",
        "        \n",
        "        if key == 27:\n",
        "            break\n",
        "\n",
        "    t2 = time.time()\n",
        "\n",
        "    fps = str( float(frame_count / float(t2 - t1))) + ' FPS'\n",
        "\n",
        "    print(\"Car detection\")\n",
        "    print(\"Total frame processed: {}\".format(frame_count))\n",
        "    print(\"Elapsed time: {:.2f}\".format(float(t2 - t1)))\n",
        "    print(\"Frame per second: {}\".format(fps))\n",
        "\n",
        "    cap.release()\n",
        "    cv.destroyAllWindows()\n",
        "    out.release()"
      ],
      "metadata": {
        "id": "-OKwqTay2xcJ"
      },
      "execution_count": 6,
      "outputs": []
    },
    {
      "cell_type": "code",
      "source": [
        "vehicleDetection(\"/content/gdrive/MyDrive/Colab Notebooks/Text&Image_Processing/FinalAssessment/traffic.mp4\")"
      ],
      "metadata": {
        "colab": {
          "base_uri": "https://localhost:8080/"
        },
        "id": "43VHL0BLXs5p",
        "outputId": "8155bea3-afa3-40cb-96f2-83b8d249132a"
      },
      "execution_count": 7,
      "outputs": [
        {
          "output_type": "stream",
          "name": "stdout",
          "text": [
            "Car detection\n",
            "Total frame processed: 120\n",
            "Elapsed time: 6.76\n",
            "Frame per second: 17.755602991648825 FPS\n"
          ]
        }
      ]
    },
    {
      "cell_type": "code",
      "source": [],
      "metadata": {
        "id": "hj6bH7cMYiay"
      },
      "execution_count": null,
      "outputs": []
    }
  ]
}